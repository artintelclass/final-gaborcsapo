{
 "cells": [
  {
   "cell_type": "code",
   "execution_count": 6,
   "metadata": {},
   "outputs": [],
   "source": [
    "import random, re, unicodedata\n",
    "from os import listdir\n",
    "from os.path import isfile, join\n",
    "\n",
    "def norm_text(data):\n",
    "    table = {768: u\"'\", 769: u\"'\", 770: u' ', 771: u' ', 772: u'-', 774: u' ', 4359: u' ', 776: u'\"', 778: u' ', 8203: u' ', 8208: u'-', 8211: u'-', 8212: u'-', 19990: u' ', 8216: u\"'\", 8217: u\"'\", 8730: u' ', 8220: u'\"', 8221: u'\"', 8222: u'\"', 25379: u' ', 164: u' ', 807: u' ', 8232: u' ', 8364: u' ', 173: u' ', 4527: u' ', 176: u' ', 38065: u' ', 946: u' ', 949: u' ', 779: u'\"', 8260: u' ', 198: u' ', 4363: u' ', 4449: u' ', 9702: u' ', 34945: u' ', 295: u' ', 20975: u' ', 247: u' ', 65279: u' '}\n",
    "    text = re.sub(' +', ' ', data)\n",
    "    text = re.sub('[\\r\\n]+', '\\n', text)\n",
    "    text = unicodedata.normalize('NFKD', unicode(text, \"utf-8\"))\n",
    "    text = text.translate(table)\n",
    "    return text\n",
    "\n",
    "data_dir = './data/essays'\n",
    "filenames = random.sample([f for f in listdir(data_dir) if isfile(join(data_dir, f))], 160)\n",
    "validnames = filenames[0:10]\n",
    "filenames = filenames[10:]\n",
    "#print(file_list)\n",
    "with open('./data/essays/input.txt', 'w') as outfile:\n",
    "    for fname in filenames:\n",
    "        with open('./data/essays/'+fname) as infile:\n",
    "            outfile.write(norm_text(infile.read()))\n",
    "            \n",
    "with open('./data/essays/validate.txt', 'w') as outfile:\n",
    "    for fname in validnames:\n",
    "        with open('./data/essays/'+fname) as infile:\n",
    "            outfile.write(norm_text(infile.read()))"
   ]
  },
  {
   "cell_type": "code",
   "execution_count": null,
   "metadata": {},
   "outputs": [],
   "source": []
  }
 ],
 "metadata": {
  "kernelspec": {
   "display_name": "Python 2",
   "language": "python",
   "name": "python2"
  },
  "language_info": {
   "codemirror_mode": {
    "name": "ipython",
    "version": 2
   },
   "file_extension": ".py",
   "mimetype": "text/x-python",
   "name": "python",
   "nbconvert_exporter": "python",
   "pygments_lexer": "ipython2",
   "version": "2.7.14"
  }
 },
 "nbformat": 4,
 "nbformat_minor": 2
}
