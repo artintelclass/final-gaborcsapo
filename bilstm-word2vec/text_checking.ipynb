{
 "cells": [
  {
   "cell_type": "code",
   "execution_count": 51,
   "metadata": {},
   "outputs": [],
   "source": [
    "table = {\n",
    "u'\\u0301':\"'\",\n",
    "u'\\u0300':\"'\",\n",
    "u'\\u0303':'',\n",
    "u'\\u0302':'',\n",
    "u'\\u0304':'-',\n",
    "u'\\u1107':'',\n",
    "u'\\u0306':'',\n",
    "u'\\u0308':'\"',\n",
    "u'\\u200b':'',\n",
    "u'\\u030a':'',\n",
    "u'\\u2010':'-',\n",
    "u'\\u2013':'-',\n",
    "u'\\u2014':'-',\n",
    "u'\\u4e16':'',\n",
    "u'\\u2019':\"'\",\n",
    "u'\\u2018':\"'\",\n",
    "u'\\u221a':'',\n",
    "u'\\u201d':'\"',\n",
    "u'\\u201c':'\"',\n",
    "u'\\u201e':'\"',\n",
    "u'\\u6323':'',\n",
    "u'\\xa4':'',\n",
    "u'\\u0327':'',\n",
    "u'\\u2028':'',\n",
    "u'\\xad':'',\n",
    "u'\\u20ac':'',\n",
    "u'\\u11af':'',\n",
    "u'\\u94b1':'',\n",
    "u'\\xb0':'',\n",
    "u'\\u03b2':'',\n",
    "u'\\u03b5':'',\n",
    "u'\\u030b':'\"',\n",
    "u'\\u110b':'',\n",
    "u'\\u2044':'',\n",
    "u'\\xc6':'',\n",
    "u'\\u8881':'',\n",
    "u'\\u1161':'',\n",
    "u'\\u0127':'',\n",
    "u'\\u25e6':'',\n",
    "u'\\u51ef':'',\n",
    "u'\\xf7':'',\n",
    "u'\\ufeff':''\n",
    "}"
   ]
  },
  {
   "cell_type": "code",
   "execution_count": 68,
   "metadata": {},
   "outputs": [],
   "source": [
    "import re, unicodedata\n",
    "from sets import Set\n",
    "from string import maketrans\n",
    "\n",
    "def norm_text(text):\n",
    "    table = {768: u\"'\", 769: u\"'\", 770: u' ', 771: u' ', 772: u'-', 774: u' ', 4359: u' ', 776: u'\"', 778: u' ', 8203: u' ', 8208: u'-', 8211: u'-', 8212: u'-', 19990: u' ', 8216: u\"'\", 8217: u\"'\", 8730: u' ', 8220: u'\"', 8221: u'\"', 8222: u'\"', 25379: u' ', 164: u' ', 807: u' ', 8232: u' ', 8364: u' ', 173: u' ', 4527: u' ', 176: u' ', 38065: u' ', 946: u' ', 949: u' ', 779: u'\"', 8260: u' ', 198: u' ', 4363: u' ', 4449: u' ', 9702: u' ', 34945: u' ', 295: u' ', 20975: u' ', 247: u' ', 65279: u' '}\n",
    "    text = re.sub(' +', ' ', data)\n",
    "    text = re.sub('[\\r\\n]+', ' ', text)\n",
    "    text = unicodedata.normalize('NFKD', unicode(text, \"utf-8\"))\n",
    "    text = text.translate(table)\n",
    "    return text\n",
    "mylist = Set()\n",
    "for file in files:\n",
    "    with open('./data/essays/' + file, 'r') as f:\n",
    "        data = f.read()\n",
    "    text = re.sub(' +', ' ', data)\n",
    "    text = re.sub('[\\r\\n]+', ' ', text)\n",
    "    text = unicodedata.normalize('NFKD', unicode(text, \"utf-8\"))\n",
    "    text = text.translate(table)\n",
    "    for ind, i in enumerate(text):\n",
    "        if (not is_ascii(i)):\n",
    "            mylist.add(i)\n",
    "\n",
    "            \n",
    "chars = list(mylist)"
   ]
  },
  {
   "cell_type": "code",
   "execution_count": 69,
   "metadata": {
    "scrolled": false
   },
   "outputs": [
    {
     "data": {
      "text/plain": [
       "[]"
      ]
     },
     "execution_count": 69,
     "metadata": {},
     "output_type": "execute_result"
    }
   ],
   "source": [
    "\n",
    "for ind, i in enumerate(chars):\n",
    "    print(ind,i)\n",
    "    print(i)\n",
    "chars"
   ]
  },
  {
   "cell_type": "code",
   "execution_count": 43,
   "metadata": {},
   "outputs": [],
   "source": [
    "import re, unicodedata\n",
    "\n",
    "def is_ascii(text):\n",
    "    if isinstance(text, unicode):\n",
    "        try:\n",
    "            text.encode('ascii')\n",
    "        except UnicodeEncodeError:\n",
    "            return False\n",
    "    else:\n",
    "        try:\n",
    "            text.decode('ascii')\n",
    "        except UnicodeDecodeError:\n",
    "            return False\n",
    "    return True\n",
    "\n",
    "f = open('./data/essays/d2.txt')\n",
    "data = f.read()\n",
    "\n",
    "text = re.sub(' +', ' ', data)\n",
    "text = re.sub('[\\r\\n]+', ' ', text)\n",
    "text = unicodedata.normalize('NFKD', unicode(text, \"utf-8\"))\n"
   ]
  },
  {
   "cell_type": "code",
   "execution_count": 64,
   "metadata": {
    "scrolled": true
   },
   "outputs": [
    {
     "name": "stdout",
     "output_type": "stream",
     "text": [
      "{768: u\"'\", 769: u\"'\", 770: u' ', 771: u' ', 772: u'-', 774: u' ', 4359: u' ', 776: u'\"', 778: u' ', 8203: u' ', 8208: u'-', 8211: u'-', 8212: u'-', 19990: u' ', 8216: u\"'\", 8217: u\"'\", 8730: u' ', 8220: u'\"', 8221: u'\"', 8222: u'\"', 25379: u' ', 164: u' ', 807: u' ', 8232: u' ', 8364: u' ', 173: u' ', 4527: u' ', 176: u' ', 38065: u' ', 946: u' ', 949: u' ', 779: u'\"', 8260: u' ', 198: u' ', 4363: u' ', 4449: u' ', 9702: u' ', 34945: u' ', 295: u' ', 20975: u' ', 247: u' ', 65279: u' '}\n"
     ]
    }
   ],
   "source": [
    "intab = [u'\\u0301',\n",
    " u'\\u0300',\n",
    " u'\\u0303',\n",
    " u'\\u0302',\n",
    " u'\\u0304',\n",
    " u'\\u1107',\n",
    " u'\\u0306',\n",
    " u'\\u0308',\n",
    " u'\\u200b',\n",
    " u'\\u030a',\n",
    " u'\\u2010',\n",
    " u'\\u2013',\n",
    " u'\\u2014',\n",
    " u'\\u4e16',\n",
    " u'\\u2019',\n",
    " u'\\u2018',\n",
    " u'\\u221a',\n",
    " u'\\u201d',\n",
    " u'\\u201c',\n",
    " u'\\u201e',\n",
    " u'\\u6323',\n",
    " u'\\xa4',\n",
    " u'\\u0327',\n",
    " u'\\u2028',\n",
    " u'\\xad',\n",
    " u'\\u20ac',\n",
    " u'\\u11af',\n",
    " u'\\u94b1',\n",
    " u'\\xb0',\n",
    " u'\\u03b2',\n",
    " u'\\u03b5',\n",
    " u'\\u030b',\n",
    " u'\\u110b',\n",
    " u'\\u2044',\n",
    " u'\\xc6',\n",
    " u'\\u8881',\n",
    " u'\\u1161',\n",
    " u'\\u0127',\n",
    " u'\\u25e6',\n",
    " u'\\u51ef',\n",
    " u'\\xf7',\n",
    " u'\\ufeff']\n",
    "\n",
    "out = [\"'\",\"'\",' ',' ','-',' ',' ','\"',' ',' ','-','-','-',' ',\"'\",\"'\",' ','\"','\"','\"',' ',' ',' ',' ',' ',' ',' ',' ',' ',' ',' ','\"',' ',' ',' ',' ',' ',' ',' ',' ',' ',' ']\n",
    "\n",
    "intab = \"\".join(intab)\n",
    "out = \"\".join(out)\n",
    "table = {ord(s): unicode(d) for s, d in zip(intab, out)}\n",
    "\n",
    "for c in text[900:950].translate(table):\n",
    "    if c in table.keys():\n",
    "        print (c)\n",
    "        \n",
    "print (table)"
   ]
  },
  {
   "cell_type": "code",
   "execution_count": 26,
   "metadata": {},
   "outputs": [
    {
     "name": "stdout",
     "output_type": "stream",
     "text": [
      "’s auth\n",
      "’s natu\n",
      "’s work\n",
      "’s work\n",
      "́tienne\n",
      "’s natu\n",
      "’t have\n",
      "“that n\n",
      "” . Mor\n",
      "’s phil\n",
      "– and t\n",
      "– discu\n",
      "’ claim\n",
      "– the o\n",
      "– al-Gh\n",
      "’s work\n",
      "– in th\n",
      "– “is t\n",
      "“is the\n",
      "” and t\n",
      "“the ma\n",
      "” . Ibn\n",
      "“natura\n",
      "” . Bot\n",
      "’s natu\n",
      "’ ideas\n",
      "́tienne\n",
      "’ works\n",
      "’ writi\n",
      "’s argu\n"
     ]
    }
   ],
   "source": [
    "for ind, i in enumerate(text):\n",
    "        if (not is_ascii(i)):\n",
    "            print(text[ind:ind+7])"
   ]
  },
  {
   "cell_type": "code",
   "execution_count": 22,
   "metadata": {},
   "outputs": [
    {
     "data": {
      "text/plain": [
       "u'\\u2019'"
      ]
     },
     "execution_count": 22,
     "metadata": {},
     "output_type": "execute_result"
    }
   ],
   "source": [
    "text[910]"
   ]
  },
  {
   "cell_type": "code",
   "execution_count": null,
   "metadata": {},
   "outputs": [],
   "source": []
  }
 ],
 "metadata": {
  "kernelspec": {
   "display_name": "Python 2",
   "language": "python",
   "name": "python2"
  },
  "language_info": {
   "codemirror_mode": {
    "name": "ipython",
    "version": 2
   },
   "file_extension": ".py",
   "mimetype": "text/x-python",
   "name": "python",
   "nbconvert_exporter": "python",
   "pygments_lexer": "ipython2",
   "version": "2.7.14"
  }
 },
 "nbformat": 4,
 "nbformat_minor": 2
}
